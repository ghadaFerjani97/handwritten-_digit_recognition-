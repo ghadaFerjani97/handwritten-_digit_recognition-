{
 "cells": [
  {
   "cell_type": "code",
   "execution_count": 1,
   "metadata": {},
   "outputs": [],
   "source": [
    "import DATA_matrice_moyenne as DATA\n",
    "import load_DB as ldb\n",
    "import numpy as np\n",
    "import SVD\n",
    "import generateSVD\n",
    "from scipy.spatial import distance\n",
    "import GenerateTransformedData as generateT\n",
    "import classification as cl\n",
    "import matplotlib.pyplot as plt\n",
    "\n",
    "Training , Test = ldb.seperateData()\n",
    "derivsTest = ldb.getDerivationDB(\"translateX.mat\")"
   ]
  },
  {
   "cell_type": "code",
   "execution_count": null,
   "metadata": {},
   "outputs": [],
   "source": []
  },
  {
   "cell_type": "code",
   "execution_count": 2,
   "metadata": {},
   "outputs": [
    {
     "data": {
      "text/plain": [
       "<matplotlib.image.AxesImage at 0x1c24bffdd8>"
      ]
     },
     "execution_count": 2,
     "metadata": {},
     "output_type": "execute_result"
    },
    {
     "data": {
      "image/png": "[encoded data removed]",
      "text/plain": [
       "<matplotlib.figure.Figure at 0x10d521978>"
      ]
     },
     "metadata": {},
     "output_type": "display_data"
    }
   ],
   "source": [
    "plt.imshow(ldb.getData(55995+11).reshape((28,28)), cmap='gray')"
   ]
  },
  {
   "cell_type": "code",
   "execution_count": 3,
   "metadata": {},
   "outputs": [],
   "source": [
    "derivsTest = [derivsTest[i] for i in Test]"
   ]
  },
  {
   "cell_type": "code",
   "execution_count": 4,
   "metadata": {},
   "outputs": [
    {
     "name": "stdout",
     "output_type": "stream",
     "text": [
      "55996\n"
     ]
    }
   ],
   "source": [
    "print(len(Training))"
   ]
  },
  {
   "cell_type": "code",
   "execution_count": 5,
   "metadata": {},
   "outputs": [],
   "source": [
    "generateT.SVD_DB(Training)"
   ]
  },
  {
   "cell_type": "code",
   "execution_count": 6,
   "metadata": {},
   "outputs": [],
   "source": [
    "testdb = [ldb.getData(i) for i in Test]\n",
    "labeltest = [ldb.getLabel(i) for i in Test]"
   ]
  },
  {
   "cell_type": "code",
   "execution_count": 7,
   "metadata": {},
   "outputs": [
    {
     "data": {
      "text/plain": [
       "<matplotlib.figure.Figure at 0x1c2acad128>"
      ]
     },
     "execution_count": 7,
     "metadata": {},
     "output_type": "execute_result"
    },
    {
     "data": {
      "image/png": "[encoded data removed]",
      "text/plain": [
       "<matplotlib.figure.Figure at 0x10d521b70>"
      ]
     },
     "metadata": {},
     "output_type": "display_data"
    },
    {
     "data": {
      "image/png": "[encoded data removed]",
      "text/plain": [
       "<matplotlib.figure.Figure at 0x10d521630>"
      ]
     },
     "metadata": {},
     "output_type": "display_data"
    },
    {
     "data": {
      "text/plain": [
       "<matplotlib.figure.Figure at 0x1c2acad128>"
      ]
     },
     "metadata": {},
     "output_type": "display_data"
    }
   ],
   "source": [
    "ind = 11\n",
    "plt.imshow(testdb[ind].reshape((28,28)), cmap='gray')\n",
    "plt.figure()\n",
    "plt.imshow(derivsTest[ind].reshape((28,28)), cmap='gray')\n",
    "plt.figure()"
   ]
  },
  {
   "cell_type": "code",
   "execution_count": null,
   "metadata": {},
   "outputs": [],
   "source": []
  },
  {
   "cell_type": "code",
   "execution_count": 8,
   "metadata": {},
   "outputs": [
    {
     "name": "stdout",
     "output_type": "stream",
     "text": [
      "RESET DATA ...\n"
     ]
    }
   ],
   "source": [
    "ldb.resetDataBase(\"mnist_SVD.mat\")"
   ]
  },
  {
   "cell_type": "code",
   "execution_count": 9,
   "metadata": {},
   "outputs": [],
   "source": [
    "\"Update training data\"\n",
    "Training = [i for i in range(len(ldb.mnist_data))]"
   ]
  },
  {
   "cell_type": "code",
   "execution_count": null,
   "metadata": {},
   "outputs": [],
   "source": []
  },
  {
   "cell_type": "code",
   "execution_count": 10,
   "metadata": {
    "scrolled": true
   },
   "outputs": [],
   "source": [
    "generateT.translationX_DB(len(ldb.mnist_label),nom = \"SVD\")"
   ]
  },
  {
   "cell_type": "code",
   "execution_count": 11,
   "metadata": {},
   "outputs": [
    {
     "name": "stdout",
     "output_type": "stream",
     "text": [
      "14004\n",
      "14004\n"
     ]
    }
   ],
   "source": [
    "print(len(testdb))\n",
    "print(len(derivsTest))"
   ]
  },
  {
   "cell_type": "code",
   "execution_count": null,
   "metadata": {},
   "outputs": [],
   "source": []
  },
  {
   "cell_type": "code",
   "execution_count": 12,
   "metadata": {},
   "outputs": [
    {
     "name": "stdout",
     "output_type": "stream",
     "text": [
      "2 2\n"
     ]
    }
   ],
   "source": [
    "derivsTraining = ldb.getDerivationDB(\"translateXSVD.mat\")\n",
    "indice = 120\n",
    "\n",
    "predit = cl.classificationTangeante(indice,testdb,Training,derivsTest,derivsTraining,labeltest[indice])\n",
    "\n",
    "print(labeltest[indice],predit)"
   ]
  },
  {
   "cell_type": "code",
   "execution_count": 13,
   "metadata": {},
   "outputs": [
    {
     "name": "stdout",
     "output_type": "stream",
     "text": [
      "140\n",
      "140\n"
     ]
    }
   ],
   "source": [
    "print(len(Training))\n",
    "print(len(derivsTraining))"
   ]
  },
  {
   "cell_type": "code",
   "execution_count": 14,
   "metadata": {
    "scrolled": true
   },
   "outputs": [
    {
     "name": "stdout",
     "output_type": "stream",
     "text": [
      "0.9\n",
      "0.8\n",
      "0.8666666666666667\n",
      "0.825\n",
      "0.84\n",
      "0.8166666666666667\n",
      "0.8142857142857143\n",
      "0.8125\n",
      "0.8222222222222222\n",
      "0.84\n",
      "0.8545454545454545\n",
      "0.8583333333333333\n",
      "0.8615384615384616\n",
      "0.8571428571428571\n",
      "0.86\n",
      "0.86875\n",
      "0.8647058823529412\n",
      "0.8666666666666667\n",
      "0.8578947368421053\n",
      "0.845\n",
      "0.8523809523809524\n",
      "0.8590909090909091\n",
      "0.8608695652173913\n",
      "0.8583333333333333\n",
      "0.86\n",
      "0.8653846153846154\n",
      "0.8592592592592593\n",
      "0.8607142857142858\n",
      "0.8655172413793103\n",
      "0.8633333333333333\n",
      "0.864516129032258\n",
      "0.85625\n",
      "0.8606060606060606\n",
      "0.8588235294117647\n",
      "0.86\n",
      "0.8555555555555555\n",
      "0.8540540540540541\n",
      "0.8552631578947368\n",
      "0.8589743589743589\n",
      "0.8575\n",
      "0.8560975609756097\n",
      "0.8547619047619047\n",
      "0.8488372093023255\n",
      "0.85\n",
      "0.8488888888888889\n",
      "0.8478260869565217\n",
      "0.8489361702127659\n",
      "0.85\n",
      "0.8489795918367347\n",
      "0.848\n",
      "0.8490196078431372\n",
      "0.8480769230769231\n",
      "0.8490566037735849\n",
      "0.85\n",
      "0.850909090909091\n",
      "0.85\n",
      "0.8508771929824561\n",
      "0.85\n",
      "0.8440677966101695\n",
      "0.8433333333333334\n",
      "0.8426229508196721\n",
      "0.8419354838709677\n",
      "0.8396825396825397\n",
      "0.8390625\n",
      "0.8384615384615385\n",
      "0.8378787878787879\n",
      "0.8388059701492537\n",
      "0.8382352941176471\n",
      "0.8376811594202899\n",
      "0.8357142857142857\n",
      "0.8366197183098592\n",
      "0.8347222222222223\n",
      "0.8342465753424657\n",
      "0.8337837837837838\n",
      "0.832\n",
      "0.8302631578947368\n",
      "0.8272727272727273\n",
      "0.8282051282051283\n",
      "0.8278481012658228\n",
      "0.83\n",
      "0.8308641975308642\n",
      "0.8317073170731707\n",
      "0.8313253012048193\n",
      "0.830952380952381\n",
      "0.8305882352941176\n",
      "0.8290697674418605\n",
      "0.8298850574712644\n",
      "0.8318181818181818\n",
      "0.8325842696629213\n",
      "0.83\n",
      "0.8318681318681319\n",
      "0.8326086956521739\n",
      "0.8333333333333334\n",
      "0.8329787234042553\n",
      "0.8315789473684211\n",
      "0.8322916666666667\n",
      "0.831958762886598\n",
      "0.8316326530612245\n",
      "0.8323232323232324\n",
      "0.833\n",
      "0.8336633663366336\n",
      "0.8333333333333334\n",
      "0.8339805825242719\n",
      "0.8346153846153846\n",
      "0.8352380952380952\n",
      "0.8339622641509434\n",
      "0.8327102803738318\n",
      "0.8324074074074074\n",
      "0.8339449541284404\n",
      "0.8336363636363636\n",
      "0.8333333333333334\n",
      "0.8294642857142858\n",
      "0.8283185840707965\n",
      "0.8289473684210527\n",
      "0.828695652173913\n",
      "0.8284482758620689\n",
      "0.82991452991453\n",
      "0.8305084745762712\n",
      "0.8319327731092437\n",
      "0.8325\n",
      "0.8330578512396695\n",
      "0.8336065573770491\n",
      "0.8333333333333334\n",
      "0.8338709677419355\n",
      "0.8312\n",
      "0.830952380952381\n",
      "0.8322834645669291\n",
      "0.8328125\n",
      "0.8317829457364341\n",
      "0.8315384615384616\n",
      "0.8312977099236641\n",
      "0.831060606060606\n",
      "0.8315789473684211\n",
      "0.8313432835820895\n",
      "0.8318518518518518\n",
      "0.8316176470588236\n",
      "0.82992700729927\n",
      "0.8289855072463768\n",
      "0.8273381294964028\n",
      "0.8278571428571428\n",
      "0.8276595744680851\n",
      "0.828169014084507\n",
      "0.827972027972028\n",
      "0.8284722222222223\n",
      "0.829655172413793\n",
      "0.8308219178082191\n",
      "0.8299319727891157\n",
      "0.8304054054054054\n",
      "0.8295302013422818\n",
      "0.8293333333333334\n",
      "0.8304635761589404\n",
      "0.8296052631578947\n",
      "0.8300653594771242\n",
      "0.8311688311688312\n",
      "0.8316129032258065\n",
      "0.8320512820512821\n",
      "0.8331210191082803\n",
      "0.8322784810126582\n",
      "0.8320754716981132\n",
      "0.831875\n",
      "0.8316770186335404\n",
      "0.832716049382716\n",
      "0.8337423312883435\n",
      "0.8329268292682926\n",
      "0.8333333333333334\n",
      "0.8337349397590361\n",
      "0.8335329341317366\n",
      "0.8315476190476191\n",
      "0.8313609467455622\n",
      "0.8323529411764706\n",
      "0.8315789473684211\n",
      "0.8319767441860465\n",
      "0.8317919075144509\n",
      "0.832183908045977\n",
      "0.8325714285714285\n",
      "0.8318181818181818\n",
      "0.831638418079096\n",
      "0.8320224719101124\n",
      "0.8324022346368715\n",
      "0.8327777777777777\n",
      "0.8331491712707182\n",
      "0.8324175824175825\n",
      "0.8316939890710382\n",
      "0.8309782608695652\n",
      "0.8302702702702702\n",
      "0.8295698924731183\n",
      "0.8299465240641711\n",
      "0.8303191489361702\n",
      "0.8306878306878307\n",
      "0.8305263157894737\n",
      "0.831413612565445\n",
      "0.8296875\n",
      "0.8295336787564767\n",
      "0.8298969072164949\n",
      "0.8302564102564103\n",
      "0.8306122448979592\n",
      "0.8304568527918782\n",
      "0.8308080808080808\n",
      "0.8301507537688442\n",
      "0.8305\n",
      "0.8313432835820895\n",
      "0.8321782178217821\n",
      "0.8320197044334975\n",
      "0.8318627450980393\n",
      "0.8312195121951219\n",
      "0.8315533980582525\n",
      "0.8314009661835748\n",
      "0.8307692307692308\n",
      "0.8315789473684211\n",
      "0.8314285714285714\n",
      "0.8308056872037914\n",
      "0.8311320754716981\n",
      "0.8309859154929577\n",
      "0.8313084112149532\n",
      "0.8311627906976744\n"
     ]
    },
    {
     "ename": "KeyboardInterrupt",
     "evalue": "",
     "output_type": "error",
     "traceback": [
      "\u001b[0;31m---------------------------------------------------------------------------\u001b[0m",
      "\u001b[0;31mKeyboardInterrupt\u001b[0m                         Traceback (most recent call last)",
      "\u001b[0;32m<ipython-input-14-95a14de9adae>\u001b[0m in \u001b[0;36m<module>\u001b[0;34m()\u001b[0m\n\u001b[1;32m      3\u001b[0m \u001b[0mcount\u001b[0m  \u001b[0;34m=\u001b[0m \u001b[0;36m1\u001b[0m\u001b[0;34m\u001b[0m\u001b[0m\n\u001b[1;32m      4\u001b[0m \u001b[0;32mfor\u001b[0m \u001b[0mindice\u001b[0m \u001b[0;32min\u001b[0m \u001b[0mrange\u001b[0m\u001b[0;34m(\u001b[0m\u001b[0mtotal\u001b[0m\u001b[0;34m)\u001b[0m\u001b[0;34m:\u001b[0m\u001b[0;34m\u001b[0m\u001b[0m\n\u001b[0;32m----> 5\u001b[0;31m     \u001b[0mpredit\u001b[0m \u001b[0;34m=\u001b[0m \u001b[0;34m(\u001b[0m\u001b[0mcl\u001b[0m\u001b[0;34m.\u001b[0m\u001b[0mclassificationTangeante\u001b[0m\u001b[0;34m(\u001b[0m\u001b[0mindice\u001b[0m\u001b[0;34m,\u001b[0m\u001b[0mtestdb\u001b[0m\u001b[0;34m,\u001b[0m\u001b[0mTraining\u001b[0m\u001b[0;34m,\u001b[0m\u001b[0mderivsTest\u001b[0m\u001b[0;34m,\u001b[0m\u001b[0mderivsTraining\u001b[0m\u001b[0;34m,\u001b[0m\u001b[0mlabeltest\u001b[0m\u001b[0;34m[\u001b[0m\u001b[0mindice\u001b[0m\u001b[0;34m]\u001b[0m\u001b[0;34m)\u001b[0m\u001b[0;34m)\u001b[0m\u001b[0;34m\u001b[0m\u001b[0m\n\u001b[0m\u001b[1;32m      6\u001b[0m     \u001b[0;31m#print(labeltest[indice],predit)\u001b[0m\u001b[0;34m\u001b[0m\u001b[0;34m\u001b[0m\u001b[0m\n\u001b[1;32m      7\u001b[0m     \u001b[0mscore\u001b[0m \u001b[0;34m+=\u001b[0m \u001b[0;34m(\u001b[0m\u001b[0mpredit\u001b[0m \u001b[0;34m==\u001b[0m \u001b[0mlabeltest\u001b[0m\u001b[0;34m[\u001b[0m\u001b[0mindice\u001b[0m\u001b[0;34m]\u001b[0m\u001b[0;34m)\u001b[0m\u001b[0;34m\u001b[0m\u001b[0m\n",
      "\u001b[0;32m~/Documents/DICKO/L3/S6/3M101/projet-maths/classification.py\u001b[0m in \u001b[0;36mclassificationTangeante\u001b[0;34m(indice, testdb, trainingDb, derivsTest, derivsTraining, realLabel, log)\u001b[0m\n\u001b[1;32m     17\u001b[0m         \u001b[0mte\u001b[0m \u001b[0;34m=\u001b[0m \u001b[0mnp\u001b[0m\u001b[0;34m.\u001b[0m\u001b[0marray\u001b[0m\u001b[0;34m(\u001b[0m\u001b[0;34m[\u001b[0m\u001b[0mderivsTraining\u001b[0m\u001b[0;34m[\u001b[0m\u001b[0me\u001b[0m\u001b[0;34m]\u001b[0m\u001b[0;34m]\u001b[0m\u001b[0;34m)\u001b[0m\u001b[0;34m.\u001b[0m\u001b[0mtranspose\u001b[0m\u001b[0;34m(\u001b[0m\u001b[0;34m)\u001b[0m\u001b[0;34m\u001b[0m\u001b[0m\n\u001b[1;32m     18\u001b[0m         \u001b[0mme\u001b[0m \u001b[0;34m=\u001b[0m \u001b[0mldb\u001b[0m\u001b[0;34m.\u001b[0m\u001b[0mgetData\u001b[0m\u001b[0;34m(\u001b[0m\u001b[0me\u001b[0m\u001b[0;34m)\u001b[0m\u001b[0;34m\u001b[0m\u001b[0m\n\u001b[0;32m---> 19\u001b[0;31m         \u001b[0mlst\u001b[0m\u001b[0;34m.\u001b[0m\u001b[0mappend\u001b[0m\u001b[0;34m(\u001b[0m\u001b[0mgenerateT\u001b[0m\u001b[0;34m.\u001b[0m\u001b[0mTangenteDistance\u001b[0m\u001b[0;34m(\u001b[0m\u001b[0mp\u001b[0m\u001b[0;34m,\u001b[0m\u001b[0mme\u001b[0m\u001b[0;34m,\u001b[0m\u001b[0mtp\u001b[0m\u001b[0;34m,\u001b[0m\u001b[0mte\u001b[0m\u001b[0;34m)\u001b[0m\u001b[0;34m)\u001b[0m\u001b[0;34m\u001b[0m\u001b[0m\n\u001b[0m\u001b[1;32m     20\u001b[0m         \u001b[0;31m#lst.append(np.linalg.norm(p-me))\u001b[0m\u001b[0;34m\u001b[0m\u001b[0;34m\u001b[0m\u001b[0m\n\u001b[1;32m     21\u001b[0m     \u001b[0;31m# print(generateT.TangenteDistance(p,ldb.getData(db[0]),tp,np.array([Te[db[0]]])))\u001b[0m\u001b[0;34m\u001b[0m\u001b[0;34m\u001b[0m\u001b[0m\n",
      "\u001b[0;32m~/Documents/DICKO/L3/S6/3M101/projet-maths/GenerateTransformedData.py\u001b[0m in \u001b[0;36mTangenteDistance\u001b[0;34m(p, e, Tp, Te)\u001b[0m\n\u001b[1;32m    117\u001b[0m     \u001b[0mA\u001b[0m\u001b[0;34m[\u001b[0m\u001b[0;34m:\u001b[0m\u001b[0;34m,\u001b[0m \u001b[0;36m0\u001b[0m\u001b[0;34m:\u001b[0m\u001b[0mcp\u001b[0m\u001b[0;34m]\u001b[0m \u001b[0;34m=\u001b[0m \u001b[0;34m-\u001b[0m\u001b[0;36m1\u001b[0m \u001b[0;34m*\u001b[0m \u001b[0mTp\u001b[0m\u001b[0;34m[\u001b[0m\u001b[0;34m:\u001b[0m\u001b[0;34m,\u001b[0m \u001b[0;34m:\u001b[0m\u001b[0;34m]\u001b[0m\u001b[0;34m\u001b[0m\u001b[0m\n\u001b[1;32m    118\u001b[0m     \u001b[0mA\u001b[0m\u001b[0;34m[\u001b[0m\u001b[0;34m:\u001b[0m\u001b[0;34m,\u001b[0m \u001b[0mcp\u001b[0m\u001b[0;34m:\u001b[0m\u001b[0mce\u001b[0m \u001b[0;34m+\u001b[0m \u001b[0mcp\u001b[0m\u001b[0;34m]\u001b[0m \u001b[0;34m=\u001b[0m \u001b[0mTe\u001b[0m\u001b[0;34m[\u001b[0m\u001b[0;34m:\u001b[0m\u001b[0;34m,\u001b[0m \u001b[0;34m:\u001b[0m\u001b[0;34m]\u001b[0m\u001b[0;34m\u001b[0m\u001b[0m\n\u001b[0;32m--> 119\u001b[0;31m     \u001b[0mQ\u001b[0m\u001b[0;34m,\u001b[0m \u001b[0mR\u001b[0m \u001b[0;34m=\u001b[0m \u001b[0mqr\u001b[0m\u001b[0;34m(\u001b[0m\u001b[0mA\u001b[0m\u001b[0;34m)\u001b[0m\u001b[0;34m\u001b[0m\u001b[0m\n\u001b[0m\u001b[1;32m    120\u001b[0m \u001b[0;34m\u001b[0m\u001b[0m\n\u001b[1;32m    121\u001b[0m     \u001b[0mlr\u001b[0m\u001b[0;34m,\u001b[0m \u001b[0mcr\u001b[0m \u001b[0;34m=\u001b[0m \u001b[0mR\u001b[0m\u001b[0;34m.\u001b[0m\u001b[0mshape\u001b[0m\u001b[0;34m\u001b[0m\u001b[0m\n",
      "\u001b[0;32m~/anaconda3/lib/python3.6/site-packages/scipy/linalg/decomp_qr.py\u001b[0m in \u001b[0;36mqr\u001b[0;34m(a, overwrite_a, lwork, mode, pivoting, check_finite)\u001b[0m\n\u001b[1;32m    139\u001b[0m         \u001b[0mgeqrf\u001b[0m\u001b[0;34m,\u001b[0m \u001b[0;34m=\u001b[0m \u001b[0mget_lapack_funcs\u001b[0m\u001b[0;34m(\u001b[0m\u001b[0;34m(\u001b[0m\u001b[0;34m'geqrf'\u001b[0m\u001b[0;34m,\u001b[0m\u001b[0;34m)\u001b[0m\u001b[0;34m,\u001b[0m \u001b[0;34m(\u001b[0m\u001b[0ma1\u001b[0m\u001b[0;34m,\u001b[0m\u001b[0;34m)\u001b[0m\u001b[0;34m)\u001b[0m\u001b[0;34m\u001b[0m\u001b[0m\n\u001b[1;32m    140\u001b[0m         qr, tau = safecall(geqrf, \"geqrf\", a1, lwork=lwork,\n\u001b[0;32m--> 141\u001b[0;31m             overwrite_a=overwrite_a)\n\u001b[0m\u001b[1;32m    142\u001b[0m \u001b[0;34m\u001b[0m\u001b[0m\n\u001b[1;32m    143\u001b[0m     \u001b[0;32mif\u001b[0m \u001b[0mmode\u001b[0m \u001b[0;32mnot\u001b[0m \u001b[0;32min\u001b[0m \u001b[0;34m[\u001b[0m\u001b[0;34m'economic'\u001b[0m\u001b[0;34m,\u001b[0m \u001b[0;34m'raw'\u001b[0m\u001b[0;34m]\u001b[0m \u001b[0;32mor\u001b[0m \u001b[0mM\u001b[0m \u001b[0;34m<\u001b[0m \u001b[0mN\u001b[0m\u001b[0;34m:\u001b[0m\u001b[0;34m\u001b[0m\u001b[0m\n",
      "\u001b[0;32m~/anaconda3/lib/python3.6/site-packages/scipy/linalg/decomp_qr.py\u001b[0m in \u001b[0;36msafecall\u001b[0;34m(f, name, *args, **kwargs)\u001b[0m\n\u001b[1;32m     19\u001b[0m         \u001b[0mret\u001b[0m \u001b[0;34m=\u001b[0m \u001b[0mf\u001b[0m\u001b[0;34m(\u001b[0m\u001b[0;34m*\u001b[0m\u001b[0margs\u001b[0m\u001b[0;34m,\u001b[0m \u001b[0;34m**\u001b[0m\u001b[0mkwargs\u001b[0m\u001b[0;34m)\u001b[0m\u001b[0;34m\u001b[0m\u001b[0m\n\u001b[1;32m     20\u001b[0m         \u001b[0mkwargs\u001b[0m\u001b[0;34m[\u001b[0m\u001b[0;34m'lwork'\u001b[0m\u001b[0;34m]\u001b[0m \u001b[0;34m=\u001b[0m \u001b[0mret\u001b[0m\u001b[0;34m[\u001b[0m\u001b[0;34m-\u001b[0m\u001b[0;36m2\u001b[0m\u001b[0;34m]\u001b[0m\u001b[0;34m[\u001b[0m\u001b[0;36m0\u001b[0m\u001b[0;34m]\u001b[0m\u001b[0;34m.\u001b[0m\u001b[0mreal\u001b[0m\u001b[0;34m.\u001b[0m\u001b[0mastype\u001b[0m\u001b[0;34m(\u001b[0m\u001b[0mnumpy\u001b[0m\u001b[0;34m.\u001b[0m\u001b[0mint\u001b[0m\u001b[0;34m)\u001b[0m\u001b[0;34m\u001b[0m\u001b[0m\n\u001b[0;32m---> 21\u001b[0;31m     \u001b[0mret\u001b[0m \u001b[0;34m=\u001b[0m \u001b[0mf\u001b[0m\u001b[0;34m(\u001b[0m\u001b[0;34m*\u001b[0m\u001b[0margs\u001b[0m\u001b[0;34m,\u001b[0m \u001b[0;34m**\u001b[0m\u001b[0mkwargs\u001b[0m\u001b[0;34m)\u001b[0m\u001b[0;34m\u001b[0m\u001b[0m\n\u001b[0m\u001b[1;32m     22\u001b[0m     \u001b[0;32mif\u001b[0m \u001b[0mret\u001b[0m\u001b[0;34m[\u001b[0m\u001b[0;34m-\u001b[0m\u001b[0;36m1\u001b[0m\u001b[0;34m]\u001b[0m \u001b[0;34m<\u001b[0m \u001b[0;36m0\u001b[0m\u001b[0;34m:\u001b[0m\u001b[0;34m\u001b[0m\u001b[0m\n\u001b[1;32m     23\u001b[0m         raise ValueError(\"illegal value in %d-th argument of internal %s\"\n",
      "\u001b[0;31mKeyboardInterrupt\u001b[0m: "
     ]
    }
   ],
   "source": [
    "total = len(testdb)\n",
    "score = 0\n",
    "count  = 1\n",
    "for indice in range(total): \n",
    "    predit = (cl.classificationTangeante(indice,testdb,Training,derivsTest,derivsTraining,labeltest[indice]))\n",
    "    #print(labeltest[indice],predit)\n",
    "    score += (predit == labeltest[indice])\n",
    "    if count % 10 == 0 :\n",
    "        print(score/count)  \n",
    "    count+= 1\n",
    "    plt.show()\n",
    "print(score/(total))"
   ]
  },
  {
   "cell_type": "code",
   "execution_count": null,
   "metadata": {},
   "outputs": [],
   "source": []
  },
  {
   "cell_type": "code",
   "execution_count": null,
   "metadata": {},
   "outputs": [],
   "source": [
    "toPlot = 12\n",
    "plt.imshow(ldb.getData(toPlot).reshape((28,28)))\n",
    "plt.gray()\n",
    "plt.figure()\n",
    "plt.imshow(testdb[toPlot].reshape((28,28)))\n",
    "plt.gray()"
   ]
  }
 ],
 "metadata": {
  "kernelspec": {
   "display_name": "Python 3",
   "language": "python",
   "name": "python3"
  },
  "language_info": {
   "codemirror_mode": {
    "name": "ipython",
    "version": 3
   },
   "file_extension": ".py",
   "mimetype": "text/x-python",
   "name": "python",
   "nbconvert_exporter": "python",
   "pygments_lexer": "ipython3",
   "version": "3.6.4"
  }
 },
 "nbformat": 4,
 "nbformat_minor": 2
}
